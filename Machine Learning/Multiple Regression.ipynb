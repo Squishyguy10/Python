{
 "cells": [
  {
   "cell_type": "code",
   "execution_count": 3,
   "metadata": {},
   "outputs": [],
   "source": [
    "import numpy as np\n",
    "\n",
    "res, temp, tour, meal = np.loadtxt(\"cracker barrel.txt\", skiprows=1, unpack=True)\n",
    "\n",
    "x = np.column_stack((np.ones(res.size), res, temp, tour))\n",
    "\n",
    "y = meal.reshape(-1, 1)"
   ]
  },
  {
   "cell_type": "code",
   "execution_count": 4,
   "metadata": {},
   "outputs": [
    {
     "data": {
      "text/plain": [
       "array([[ 1., 13., 33.,  9.],\n",
       "       [ 1.,  2., 16.,  6.],\n",
       "       [ 1., 14., 32.,  3.],\n",
       "       [ 1., 23., 25.,  9.],\n",
       "       [ 1., 13., 23.,  8.],\n",
       "       [ 1., 13., 51.,  9.],\n",
       "       [ 1.,  1., 27.,  7.],\n",
       "       [ 1., 18., 16.,  2.],\n",
       "       [ 1.,  7., 34.,  3.],\n",
       "       [ 1., 10., 22.,  3.],\n",
       "       [ 1., 26., 17.,  7.],\n",
       "       [ 1.,  3., 21.,  1.],\n",
       "       [ 1.,  3., 12.,  4.],\n",
       "       [ 1., 21., 26.,  2.],\n",
       "       [ 1., 22., 15.,  4.],\n",
       "       [ 1.,  2., 21.,  7.],\n",
       "       [ 1., 27., 18.,  3.],\n",
       "       [ 1.,  6., 26.,  8.],\n",
       "       [ 1., 10., 20.,  6.],\n",
       "       [ 1., 18., 25.,  9.],\n",
       "       [ 1., 15., 21., 10.],\n",
       "       [ 1.,  9., 22.,  7.],\n",
       "       [ 1., 26., 20.,  2.],\n",
       "       [ 1.,  8., 21.,  1.],\n",
       "       [ 1., 15., 12.,  7.],\n",
       "       [ 1., 10., 14.,  9.],\n",
       "       [ 1., 21., 19.,  4.],\n",
       "       [ 1.,  5., 20.,  3.],\n",
       "       [ 1.,  6., 18.,  3.],\n",
       "       [ 1., 13., 23.,  4.]])"
      ]
     },
     "execution_count": 4,
     "metadata": {},
     "output_type": "execute_result"
    }
   ],
   "source": [
    "x"
   ]
  },
  {
   "cell_type": "code",
   "execution_count": 5,
   "metadata": {},
   "outputs": [
    {
     "data": {
      "text/plain": [
       "array([[52.],\n",
       "       [17.],\n",
       "       [46.],\n",
       "       [70.],\n",
       "       [43.],\n",
       "       [60.],\n",
       "       [23.],\n",
       "       [43.],\n",
       "       [28.],\n",
       "       [31.],\n",
       "       [65.],\n",
       "       [15.],\n",
       "       [15.],\n",
       "       [59.],\n",
       "       [52.],\n",
       "       [22.],\n",
       "       [68.],\n",
       "       [34.],\n",
       "       [30.],\n",
       "       [56.],\n",
       "       [50.],\n",
       "       [36.],\n",
       "       [68.],\n",
       "       [25.],\n",
       "       [38.],\n",
       "       [30.],\n",
       "       [56.],\n",
       "       [19.],\n",
       "       [19.],\n",
       "       [41.]])"
      ]
     },
     "execution_count": 5,
     "metadata": {},
     "output_type": "execute_result"
    }
   ],
   "source": [
    "y"
   ]
  },
  {
   "cell_type": "code",
   "execution_count": 6,
   "metadata": {},
   "outputs": [],
   "source": [
    "def predict(x, w):\n",
    "    return np.matmul(x, w)"
   ]
  },
  {
   "cell_type": "code",
   "execution_count": 8,
   "metadata": {},
   "outputs": [],
   "source": [
    "fake_weights = np.array([[0.1], [0.2], [0.3], [0.4]])"
   ]
  },
  {
   "cell_type": "code",
   "execution_count": 9,
   "metadata": {},
   "outputs": [
    {
     "data": {
      "text/plain": [
       "array([[16.2],\n",
       "       [ 7.7],\n",
       "       [13.7],\n",
       "       [15.8],\n",
       "       [12.8],\n",
       "       [21.6],\n",
       "       [11.2],\n",
       "       [ 9.3],\n",
       "       [12.9],\n",
       "       [ 9.9],\n",
       "       [13.2],\n",
       "       [ 7.4],\n",
       "       [ 5.9],\n",
       "       [12.9],\n",
       "       [10.6],\n",
       "       [ 9.6],\n",
       "       [12.1],\n",
       "       [12.3],\n",
       "       [10.5],\n",
       "       [14.8],\n",
       "       [13.4],\n",
       "       [11.3],\n",
       "       [12.1],\n",
       "       [ 8.4],\n",
       "       [ 9.5],\n",
       "       [ 9.9],\n",
       "       [11.6],\n",
       "       [ 8.3],\n",
       "       [ 7.9],\n",
       "       [11.2]])"
      ]
     },
     "execution_count": 9,
     "metadata": {},
     "output_type": "execute_result"
    }
   ],
   "source": [
    "predict(x, fake_weights)"
   ]
  },
  {
   "cell_type": "code",
   "execution_count": 12,
   "metadata": {},
   "outputs": [],
   "source": [
    "def loss(x, y, w):\n",
    "    prediction = predict(x, y)\n",
    "    return np.average((prediction - y) ** 2)"
   ]
  },
  {
   "cell_type": "code",
   "execution_count": 14,
   "metadata": {},
   "outputs": [],
   "source": [
    "def gradient(x, y, w):\n",
    "    return 2 * np.matmul(x.T, (predict(x, w) - y)) / x.shape[0]"
   ]
  },
  {
   "cell_type": "code",
   "execution_count": 15,
   "metadata": {},
   "outputs": [
    {
     "data": {
      "text/plain": [
       "array([[  -57.8       ],\n",
       "       [ -954.15333333],\n",
       "       [-1318.12      ],\n",
       "       [ -319.91333333]])"
      ]
     },
     "execution_count": 15,
     "metadata": {},
     "output_type": "execute_result"
    }
   ],
   "source": [
    "gradient(x, y, fake_weights)"
   ]
  },
  {
   "cell_type": "code",
   "execution_count": 16,
   "metadata": {},
   "outputs": [],
   "source": [
    "def train(x, y, iterations, lr):\n",
    "    w = np.zeros((x.shape[1], 1))\n",
    "\n",
    "    for i in range(iterations):\n",
    "        print(\"Iteration %4d => Loss: %.20f\" % (i, loss(x, y, w)))\n",
    "        w -= gradient(x, y, w) * lr\n",
    "    return w"
   ]
  },
  {
   "cell_type": "code",
   "execution_count": 18,
   "metadata": {},
   "outputs": [
    {
     "ename": "ValueError",
     "evalue": "matmul: Input operand 1 has a mismatch in its core dimension 0, with gufunc signature (n?,k),(k,m?)->(n?,m?) (size 30 is different from 4)",
     "output_type": "error",
     "traceback": [
      "\u001b[1;31m---------------------------------------------------------------------------\u001b[0m",
      "\u001b[1;31mValueError\u001b[0m                                Traceback (most recent call last)",
      "Cell \u001b[1;32mIn[18], line 1\u001b[0m\n\u001b[1;32m----> 1\u001b[0m w \u001b[39m=\u001b[39m train(x, y, \u001b[39m100000\u001b[39;49m, \u001b[39m0.001\u001b[39;49m)\n",
      "Cell \u001b[1;32mIn[16], line 5\u001b[0m, in \u001b[0;36mtrain\u001b[1;34m(x, y, iterations, lr)\u001b[0m\n\u001b[0;32m      2\u001b[0m w \u001b[39m=\u001b[39m np\u001b[39m.\u001b[39mzeros((x\u001b[39m.\u001b[39mshape[\u001b[39m1\u001b[39m], \u001b[39m1\u001b[39m))\n\u001b[0;32m      4\u001b[0m \u001b[39mfor\u001b[39;00m i \u001b[39min\u001b[39;00m \u001b[39mrange\u001b[39m(iterations):\n\u001b[1;32m----> 5\u001b[0m     \u001b[39mprint\u001b[39m(\u001b[39m\"\u001b[39m\u001b[39mIteration \u001b[39m\u001b[39m%4d\u001b[39;00m\u001b[39m => Loss: \u001b[39m\u001b[39m%.20f\u001b[39;00m\u001b[39m\"\u001b[39m \u001b[39m%\u001b[39m (i, loss(x, y, w)))\n\u001b[0;32m      6\u001b[0m     w \u001b[39m-\u001b[39m\u001b[39m=\u001b[39m gradient(x, y, w) \u001b[39m*\u001b[39m lr\n\u001b[0;32m      7\u001b[0m \u001b[39mreturn\u001b[39;00m w\n",
      "Cell \u001b[1;32mIn[12], line 2\u001b[0m, in \u001b[0;36mloss\u001b[1;34m(x, y, w)\u001b[0m\n\u001b[0;32m      1\u001b[0m \u001b[39mdef\u001b[39;00m \u001b[39mloss\u001b[39m(x, y, w):\n\u001b[1;32m----> 2\u001b[0m     prediction \u001b[39m=\u001b[39m predict(x, y)\n\u001b[0;32m      3\u001b[0m     \u001b[39mreturn\u001b[39;00m np\u001b[39m.\u001b[39maverage((prediction \u001b[39m-\u001b[39m y) \u001b[39m*\u001b[39m\u001b[39m*\u001b[39m \u001b[39m2\u001b[39m)\n",
      "Cell \u001b[1;32mIn[6], line 2\u001b[0m, in \u001b[0;36mpredict\u001b[1;34m(x, w)\u001b[0m\n\u001b[0;32m      1\u001b[0m \u001b[39mdef\u001b[39;00m \u001b[39mpredict\u001b[39m(x, w):\n\u001b[1;32m----> 2\u001b[0m     \u001b[39mreturn\u001b[39;00m np\u001b[39m.\u001b[39;49mmatmul(x, w)\n",
      "\u001b[1;31mValueError\u001b[0m: matmul: Input operand 1 has a mismatch in its core dimension 0, with gufunc signature (n?,k),(k,m?)->(n?,m?) (size 30 is different from 4)"
     ]
    }
   ],
   "source": [
    "w = train(x, y, 100000, 0.001)"
   ]
  },
  {
   "cell_type": "code",
   "execution_count": null,
   "metadata": {},
   "outputs": [],
   "source": [
    "w"
   ]
  }
 ],
 "metadata": {
  "kernelspec": {
   "display_name": "Python 3",
   "language": "python",
   "name": "python3"
  },
  "language_info": {
   "codemirror_mode": {
    "name": "ipython",
    "version": 3
   },
   "file_extension": ".py",
   "mimetype": "text/x-python",
   "name": "python",
   "nbconvert_exporter": "python",
   "pygments_lexer": "ipython3",
   "version": "3.8.5"
  },
  "orig_nbformat": 4
 },
 "nbformat": 4,
 "nbformat_minor": 2
}
