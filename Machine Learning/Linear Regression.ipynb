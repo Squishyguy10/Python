{
 "cells": [
  {
   "cell_type": "code",
   "execution_count": 2,
   "metadata": {},
   "outputs": [],
   "source": [
    "import numpy\n",
    "\n",
    "x, y = numpy.loadtxt(\"temp.txt\", skiprows=1, unpack=True)"
   ]
  },
  {
   "cell_type": "code",
   "execution_count": 5,
   "metadata": {},
   "outputs": [
    {
     "data": {
      "text/plain": [
       "array([13.,  2., 14., 23., 13., 13.,  1., 18.,  7., 10., 26.,  3.,  3.,\n",
       "       21., 22.,  2., 27.,  6., 10., 18., 15.,  9., 26.,  8., 15., 10.,\n",
       "       21.,  5.,  6., 13.])"
      ]
     },
     "execution_count": 5,
     "metadata": {},
     "output_type": "execute_result"
    }
   ],
   "source": [
    "x"
   ]
  },
  {
   "cell_type": "code",
   "execution_count": 4,
   "metadata": {},
   "outputs": [
    {
     "data": {
      "text/plain": [
       "array([33., 16., 32., 51., 27., 25., 16., 34., 22., 17., 58., 15., 15.,\n",
       "       45., 47., 13., 63., 16., 21., 37., 30., 26., 56., 23., 39., 27.,\n",
       "       45., 17., 18., 23.])"
      ]
     },
     "execution_count": 4,
     "metadata": {},
     "output_type": "execute_result"
    }
   ],
   "source": [
    "y"
   ]
  },
  {
   "cell_type": "code",
   "execution_count": 6,
   "metadata": {},
   "outputs": [],
   "source": [
    "def predict(x, w, b):\n",
    "    return x * w + b"
   ]
  },
  {
   "cell_type": "code",
   "execution_count": 19,
   "metadata": {},
   "outputs": [],
   "source": [
    "def loss(x, y, w, b):\n",
    "    predictions = predict(x, w, b)\n",
    "    return numpy.average(abs(predictions - y))"
   ]
  },
  {
   "cell_type": "code",
   "execution_count": 20,
   "metadata": {},
   "outputs": [
    {
     "data": {
      "text/plain": [
       "4.753333333333333"
      ]
     },
     "execution_count": 20,
     "metadata": {},
     "output_type": "execute_result"
    }
   ],
   "source": [
    "loss(x, y, 1.2, 12)"
   ]
  },
  {
   "cell_type": "code",
   "execution_count": 21,
   "metadata": {},
   "outputs": [],
   "source": [
    "def train(x, y, itr, lr):\n",
    "    w = b = 0\n",
    "    for i in range(itr):\n",
    "        curr_loss = loss(x, y, w, b)\n",
    "        if loss(x, y, w - lr, b) < curr_loss:\n",
    "            w -= lr\n",
    "        elif loss(x, y, w + lr, b) < curr_loss:\n",
    "            w += lr\n",
    "        elif loss(x, y, w, b - lr) < curr_loss:\n",
    "            b - lr\n",
    "        elif loss(x, y, w, b + lr) < curr_loss:\n",
    "            b += lr\n",
    "        else:\n",
    "            return w, b\n",
    "        "
   ]
  },
  {
   "cell_type": "code",
   "execution_count": 36,
   "metadata": {},
   "outputs": [],
   "source": [
    "w, b = train(x, y, 10000000, 0.0005)"
   ]
  },
  {
   "cell_type": "code",
   "execution_count": 37,
   "metadata": {},
   "outputs": [
    {
     "data": {
      "text/plain": [
       "1.7644999999998614"
      ]
     },
     "execution_count": 37,
     "metadata": {},
     "output_type": "execute_result"
    }
   ],
   "source": [
    "w"
   ]
  },
  {
   "cell_type": "code",
   "execution_count": 38,
   "metadata": {},
   "outputs": [
    {
     "data": {
      "text/plain": [
       "8.181999999998508"
      ]
     },
     "execution_count": 38,
     "metadata": {},
     "output_type": "execute_result"
    }
   ],
   "source": [
    "b"
   ]
  },
  {
   "cell_type": "code",
   "execution_count": 44,
   "metadata": {},
   "outputs": [
    {
     "name": "stdout",
     "output_type": "stream",
     "text": [
      "43.47\n"
     ]
    }
   ],
   "source": [
    "temperature = 20\n",
    "print(f\"{predict(temperature, w, b):.2f}\")"
   ]
  }
 ],
 "metadata": {
  "kernelspec": {
   "display_name": "Python 3",
   "language": "python",
   "name": "python3"
  },
  "language_info": {
   "codemirror_mode": {
    "name": "ipython",
    "version": 3
   },
   "file_extension": ".py",
   "mimetype": "text/x-python",
   "name": "python",
   "nbconvert_exporter": "python",
   "pygments_lexer": "ipython3",
   "version": "3.8.5"
  },
  "orig_nbformat": 4,
  "vscode": {
   "interpreter": {
    "hash": "b46807699934ffc65e8eaef3d284611e1e934e21f873343065c50c473dfdfe11"
   }
  }
 },
 "nbformat": 4,
 "nbformat_minor": 2
}
